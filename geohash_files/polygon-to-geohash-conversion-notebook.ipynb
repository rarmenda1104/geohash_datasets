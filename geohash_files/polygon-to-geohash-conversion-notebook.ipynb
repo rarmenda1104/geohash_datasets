{
 "cells": [
  {
   "cell_type": "code",
   "execution_count": 1,
   "id": "baa35260",
   "metadata": {},
   "outputs": [
    {
     "name": "stderr",
     "output_type": "stream",
     "text": [
      "/opt/anaconda3/lib/python3.9/site-packages/polygon_geohasher/polygon_geohasher.py:56: ShapelyDeprecationWarning: The 'cascaded_union()' function is deprecated. Use 'unary_union()' instead.\n",
      "  return cascaded_union([geohash_to_polygon(g) for g in geohashes])\n"
     ]
    }
   ],
   "source": [
    "from polygeohasher import polygeohasher\n",
    "import geopandas as gpd\n",
    "\n",
    "gdf = gpd.read_file('malaysia.json',\n",
    "                    driver = 'GeoJSON') # read your geometry file here\n",
    "\n",
    "# Intermediate steps - don't need to adjust unless you want to change geohash size in 'primary_df'\n",
    "primary_df = polygeohasher.create_geohash_list(gdf, 6,inner=False) # returns a dataframe with list of geohashes for each geometry\n",
    "\n",
    "geo_df = polygeohasher.geohashes_to_geometry(primary_df,\"geohash_list\") # return geometry for a DataFrame with a column - `opitimized_geohash_list` (output from above)\n",
    "\n",
    "# Formatting code\n",
    "geo_df.drop('name',axis = 1,inplace = True)\n",
    "geo_df.rename(columns = {'geohash_list':'name'},inplace = True)\n",
    "\n",
    "geo_df.to_file(\"malaysia_geohashed_6.json\",driver = \"GeoJSON\") #write file in your favorite spatial file format"
   ]
  },
  {
   "cell_type": "code",
   "execution_count": null,
   "id": "846a86ea",
   "metadata": {},
   "outputs": [],
   "source": []
  }
 ],
 "metadata": {
  "kernelspec": {
   "display_name": "Python 3 (ipykernel)",
   "language": "python",
   "name": "python3"
  },
  "language_info": {
   "codemirror_mode": {
    "name": "ipython",
    "version": 3
   },
   "file_extension": ".py",
   "mimetype": "text/x-python",
   "name": "python",
   "nbconvert_exporter": "python",
   "pygments_lexer": "ipython3",
   "version": "3.9.12"
  },
  "toc": {
   "base_numbering": 1,
   "nav_menu": {},
   "number_sections": true,
   "sideBar": true,
   "skip_h1_title": false,
   "title_cell": "Table of Contents",
   "title_sidebar": "Contents",
   "toc_cell": false,
   "toc_position": {},
   "toc_section_display": true,
   "toc_window_display": false
  }
 },
 "nbformat": 4,
 "nbformat_minor": 5
}
